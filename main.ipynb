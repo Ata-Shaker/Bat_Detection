{
 "cells": [
  {
   "cell_type": "code",
   "execution_count": 3,
   "metadata": {},
   "outputs": [],
   "source": [
    "# %matplotlib widget\n",
    "import os\n",
    "import json\n",
    "import numpy as np\n",
    "import pandas as pd\n",
    "import matplotlib as mpl\n",
    "mpl.rc('font', family='Times New Roman')\n",
    "from matplotlib import pyplot as plt\n",
    "import scipy as sp\n",
    "from scipy import signal as sg\n",
    "from scipy import fft\n",
    "from scipy import stats as sts\n",
    "from scipy.io import wavfile\n",
    "from fitter import Fitter, get_distributions\n",
    "from collections import deque\n",
    "from tqdm.notebook import tqdm, trange\n",
    "from functools import partial\n",
    "# import cv2 as cv"
   ]
  },
  {
   "cell_type": "code",
   "execution_count": 2,
   "metadata": {},
   "outputs": [],
   "source": [
    "def spectrum(data: np.ndarray, sr: int):\n",
    "    sp = np.abs(fft.fft(data))**2\n",
    "    sp = fft.fftshift(sp)\n",
    "    freq = fft.fftfreq(sp.size, 1 / sr)\n",
    "    freq = fft.fftshift(freq)\n",
    "    N = len(data)\n",
    "    # figure = plt.figure(figsize=(16, 9))\n",
    "    # plt.plot(freq[N // 2 : ], sp[N // 2 : ])\n",
    "    # plt.title('Spectrum')\n",
    "    return freq[N // 2:], sp[N // 2:]\n",
    "\n",
    "    # welfreq, welsp = sg.welch(data, sr, 'hann', sr / 60, sr / 180, return_onesided = True, scaling='spectrum')\n",
    "    # figure = plt.figure(figsize=(16, 9))\n",
    "    # plt.plot(welfreq, 20 * np.log10(welsp))\n",
    "    # return welfreq, 20 * np.log10(welsp)"
   ]
  },
  {
   "cell_type": "code",
   "execution_count": null,
   "metadata": {},
   "outputs": [],
   "source": [
    "def bat_inter_new(filename: str, win_len_sec: float, step_len_sec: float, percentage_ACI :float, percentage_BPC:float,\n",
    "                   stop_min: int = None) -> np.ndarray:\n",
    "    sr, data = wavfile.read(filename)\n",
    "    if stop_min is not None:\n",
    "        data = data[:stop_min * 60 * sr]\n",
    "    win_len = int(win_len_sec * sr)\n",
    "    step_len = int(step_len_sec * sr)\n",
    "\n",
    "    ord = 4\n",
    "    low_freq = 45e3 / (sr / 2)\n",
    "    high_freq = 60e3 / (sr / 2)\n",
    "    num, denom = sg.butter(ord, [low_freq, high_freq], 'bandpass')\n",
    "    flag = False\n",
    "    stack = deque()\n",
    "    temp = np.array([])\n",
    "    seg_mean = np.array([])\n",
    "\n",
    "    ACI_dist_params = (SOME_VALUE, SOME_VALUE)\n",
    "    ACI_thresh = sts.levy.interval(percentage_ACI, *ACI_dist_params)[1]\n",
    "    BPC_dist_params = (SOME_VALUE, SOME_VALUE)\n",
    "    BPC_thresh = sts.cauchy.interval(percentage_BPC, *BPC_dist_params)[1]\n",
    "    \n",
    "    for i in trange(int(data.size // step_len)):\n",
    "        clip = data[int(step_len * i):int(step_len * i + win_len)]\n",
    "        n_clip = clip / np.iinfo(clip.dtype).max\n",
    "        fil_curr_clip = sg.filtfilt(num, denom, n_clip)\n",
    "        f, t, Zxx = sg.stft(n_clip, sr, 'hann', sr / 100, sr / 200, return_onesided=True, scaling='spectrum')\n",
    "        spg_df = pd.DataFrame(np.abs(Zxx)**2, f, t)\n",
    "\n",
    "        # mving_avg_win_len = 5\n",
    "        ACI = (spg_df.diff(-1, 1).abs().sum(1) / spg_df.sum(1))\n",
    "        # ACI -= ACI.mean()\n",
    "        # ACI_mving_avg = ACI.rolling(mving_avg_win_len).mean()\n",
    "        seg = ACI.iloc[np.where(f > 45e3)[0][0]:np.where(f < 60e3)[0][-1]]\n",
    "        # print(seg.mean())\n",
    "\n",
    "        # curr_clip_zc = np.where(np.diff(np.sign(ACI_mving_avg)))[0]\n",
    "        # ACI_zc = np.where(np.diff(np.sign(seg)))[0]\n",
    "\n",
    "        if seg.mean() > ACI_thresh and (np.sum(fil_curr_clip**2) / np.sum(n_clip**2)) > BPC_thresh:\n",
    "            # seg_mean = np.append(seg_mean, seg.mean())\n",
    "            if stack[-1] == 0:\n",
    "                stack.append(-1)\n",
    "\n",
    "            if flag:\n",
    "                stack.pop()\n",
    "                stack.pop()\n",
    "                stack.append((step_len * i + win_len) / sr)\n",
    "                stack.append(-2)\n",
    "                flag = True\n",
    "            else:\n",
    "                temp = np.array(stack)\n",
    "                temp = temp[(temp != -2) & (temp != -1) & (temp != 0)]\n",
    "                if (temp.size > 1) and (temp[-1] > (step_len * i / sr)):\n",
    "                    continue\n",
    "                stack.append(step_len * i / sr)\n",
    "                stack.append((step_len * i + win_len) / sr)\n",
    "                stack.append(-2)\n",
    "                flag = True\n",
    "        else:\n",
    "            stack.append(0)\n",
    "            flag = False\n",
    "\n",
    "    thresh_stack = np.array(stack)\n",
    "    thresh_stack = thresh_stack[(thresh_stack != -2) & (thresh_stack != -1) &\n",
    "                                (thresh_stack != 0)]\n",
    "    thresh_stack_val_cnts = pd.value_counts(thresh_stack).sort_index()\n",
    "    thresh_stack = thresh_stack_val_cnts.mask(thresh_stack_val_cnts != 1).dropna().index.to_numpy()\n",
    "    redun_idx = np.where(\n",
    "        (np.diff(thresh_stack[1:-1].reshape(-1, 2)) < win_len_sec +  step_len_sec) == True)[0] + 1\n",
    "    redun_idx = np.array([redun_idx * 2 - 1, redun_idx * 2]).flatten()\n",
    "    return np.delete(thresh_stack, redun_idx).reshape(-1, 2)# , seg_mean"
   ]
  },
  {
   "cell_type": "code",
   "execution_count": null,
   "metadata": {},
   "outputs": [],
   "source": [
    "interval_logs = bat_inter_new(f'Audio.wav', 0.5, 0.1, 0.55, 0.25, 5)\n",
    "# pd.DataFrame(interval_logs, columns=['Start Time', 'End Time']).to_csv(f'file.csv')"
   ]
  },
  {
   "attachments": {},
   "cell_type": "markdown",
   "metadata": {},
   "source": [
    "<h1>ACI</h1>"
   ]
  },
  {
   "cell_type": "code",
   "execution_count": null,
   "metadata": {},
   "outputs": [],
   "source": [
    "sr, data = wavfile.read('Audio.wav')\n",
    "\n",
    "ord = 4\n",
    "low_freq = 45e3 / (sr / 2)\n",
    "high_freq = 60e3 / (sr / 2)\n",
    "num, denom = sg.butter(ord, [low_freq, high_freq], 'bandpass')\n",
    "win_len = int(0.5 * sr)\n",
    "step_len = int(0.1 * sr)\n",
    "\n",
    "info = np.array([])\n",
    "\n",
    "for i in trange(int(data.size // win_len)):\n",
    "    clip = data[int(win_len * i):int(win_len * (i + 1))]\n",
    "    n_clip = clip / np.iinfo(clip.dtype).max\n",
    "    f, t, Zxx = sg.stft(n_clip, sr, 'hann', sr / 100, sr / 200, return_onesided=True)\n",
    "    spg_df = pd.DataFrame(np.abs(Zxx), f, t)\n",
    "    ACI = (spg_df.diff(-1, 1).abs().sum(1) / spg_df.sum(1))\n",
    "    seg = ACI.iloc[np.where(f > 45e3)[0][0]:np.where(f < 60e3)[0][-1]]\n",
    "   \n",
    "    info = np.append(info, [ACI.mean(), seg.mean()])\n"
   ]
  },
  {
   "cell_type": "code",
   "execution_count": null,
   "metadata": {},
   "outputs": [],
   "source": [
    "# dist_name = ['levy', 'fatiguelife', 'reciprocal', 'loguniform', 'johnsonsb']\n",
    "# dist_name = get_distributions()\n",
    "f_50 = Fitter(infoo[:, 1], distributions=dist_name, bins=50, timeout=120)\n",
    "f_50.fit()\n",
    "f_50.summary()"
   ]
  },
  {
   "attachments": {},
   "cell_type": "markdown",
   "metadata": {},
   "source": [
    "<h1>BPC</h1>"
   ]
  },
  {
   "cell_type": "code",
   "execution_count": 6,
   "metadata": {},
   "outputs": [],
   "source": [
    "filename = 'Audio.wav'\n",
    "sr, data = wavfile.read(filename)\n",
    "data = data / np.iinfo(data.dtype).max\n",
    "ord = 4\n",
    "low_freq = 45e3 / (sr / 2)\n",
    "high_freq = 60e3 / (sr / 2)\n",
    "num, denom = sg.butter(ord, [low_freq, high_freq], 'bandpass')\n",
    "data = pd.Series(data[: int(data.shape[0] // sr) * sr])\n",
    "filted_data = pd.Series(sg.filtfilt(num, denom, data))**2\n",
    "data = data ** 2\n",
    "pow_df = (data).rolling(window = int(sr * 0.5), step = int(sr * 0.5)).sum().dropna().reset_index(drop=True)\n",
    "filted_pow_df = (filted_data).rolling(window = int(sr * 0.5), step = int(sr * 0.5)).sum().dropna().reset_index(drop=True)"
   ]
  },
  {
   "cell_type": "code",
   "execution_count": null,
   "metadata": {},
   "outputs": [],
   "source": [
    "# dist_name = ['cauchy', 'alpha', 'invgauss', 'norminvgauss', 'foldcauchy']\n",
    "# dist_name = get_distributions()\n",
    "f = Fitter(filted_pow_df / pow_df, distributions= dist_name, bins=50, timeout=120)\n",
    "f.fit()\n",
    "f.summary()"
   ]
  }
 ],
 "metadata": {
  "kernelspec": {
   "display_name": "Python 3.11.0 64-bit",
   "language": "python",
   "name": "python3"
  },
  "language_info": {
   "codemirror_mode": {
    "name": "ipython",
    "version": 3
   },
   "file_extension": ".py",
   "mimetype": "text/x-python",
   "name": "python",
   "nbconvert_exporter": "python",
   "pygments_lexer": "ipython3",
   "version": "3.11.3"
  },
  "orig_nbformat": 4,
  "vscode": {
   "interpreter": {
    "hash": "9f10aaf847cfd6f4e83b2dd59e014c444863c44a37137e24ad677043dd1b243d"
   }
  }
 },
 "nbformat": 4,
 "nbformat_minor": 2
}
